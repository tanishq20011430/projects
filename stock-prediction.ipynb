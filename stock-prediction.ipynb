{
  "metadata": {
    "kernelspec": {
      "language": "python",
      "display_name": "Python 3",
      "name": "python3"
    },
    "language_info": {
      "name": "python",
      "version": "3.7.12",
      "mimetype": "text/x-python",
      "codemirror_mode": {
        "name": "ipython",
        "version": 3
      },
      "pygments_lexer": "ipython3",
      "nbconvert_exporter": "python",
      "file_extension": ".py"
    },
    "colab": {
      "provenance": []
    }
  },
  "nbformat_minor": 0,
  "nbformat": 4,
  "cells": [
    {
      "cell_type": "code",
      "source": [
        "# This Python 3 environment comes with many helpful analytics libraries installed\n",
        "# It is defined by the kaggle/python Docker image: https://github.com/kaggle/docker-python\n",
        "# For example, here's several helpful packages to load\n",
        "\n",
        "import numpy as np # linear algebra\n",
        "import pandas as pd # data processing, CSV file I/O (e.g. pd.read_csv)\n",
        "\n",
        "# Input data files are available in the read-only \"../input/\" directory\n",
        "# For example, running this (by clicking run or pressing Shift+Enter) will list all files under the input directory\n",
        "\n",
        "import os\n",
        "for dirname, _, filenames in os.walk('/kaggle/input'):\n",
        "    for filename in filenames:\n",
        "        print(os.path.join(dirname, filename))\n",
        "\n",
        "# You can write up to 20GB to the current directory (/kaggle/working/) that gets preserved as output when you create a version using \"Save & Run All\" \n",
        "# You can also write temporary files to /kaggle/temp/, but they won't be saved outside of the current session"
      ],
      "metadata": {
        "_uuid": "8f2839f25d086af736a60e9eeb907d3b93b6e0e5",
        "_cell_guid": "b1076dfc-b9ad-4769-8c92-a6c4dae69d19",
        "execution": {
          "iopub.status.busy": "2022-12-17T11:58:56.257304Z",
          "iopub.execute_input": "2022-12-17T11:58:56.257784Z",
          "iopub.status.idle": "2022-12-17T11:58:56.287363Z",
          "shell.execute_reply.started": "2022-12-17T11:58:56.257693Z",
          "shell.execute_reply": "2022-12-17T11:58:56.286332Z"
        },
        "trusted": true,
        "id": "Z4xjGMAcB-ku"
      },
      "execution_count": 1,
      "outputs": []
    },
    {
      "cell_type": "code",
      "source": [
        "!pip install yfinance"
      ],
      "metadata": {
        "execution": {
          "iopub.status.busy": "2022-12-17T11:58:56.334566Z",
          "iopub.execute_input": "2022-12-17T11:58:56.335609Z",
          "iopub.status.idle": "2022-12-17T11:59:10.376986Z",
          "shell.execute_reply.started": "2022-12-17T11:58:56.335563Z",
          "shell.execute_reply": "2022-12-17T11:59:10.375922Z"
        },
        "trusted": true,
        "colab": {
          "base_uri": "https://localhost:8080/",
          "height": 0
        },
        "id": "beLF8ZyiB-kx",
        "outputId": "f0802088-e753-43c1-dc0a-3c5b3c8185a3"
      },
      "execution_count": 2,
      "outputs": [
        {
          "output_type": "stream",
          "name": "stdout",
          "text": [
            "Looking in indexes: https://pypi.org/simple, https://us-python.pkg.dev/colab-wheels/public/simple/\n",
            "Collecting yfinance\n",
            "  Downloading yfinance-0.1.90-py2.py3-none-any.whl (29 kB)\n",
            "Requirement already satisfied: pandas>=1.3.0 in /usr/local/lib/python3.8/dist-packages (from yfinance) (1.3.5)\n",
            "Requirement already satisfied: numpy>=1.16.5 in /usr/local/lib/python3.8/dist-packages (from yfinance) (1.21.6)\n",
            "Requirement already satisfied: multitasking>=0.0.7 in /usr/local/lib/python3.8/dist-packages (from yfinance) (0.0.11)\n",
            "Requirement already satisfied: lxml>=4.9.1 in /usr/local/lib/python3.8/dist-packages (from yfinance) (4.9.2)\n",
            "Collecting requests>=2.26\n",
            "  Downloading requests-2.28.1-py3-none-any.whl (62 kB)\n",
            "\u001b[K     |████████████████████████████████| 62 kB 1.1 MB/s \n",
            "\u001b[?25hRequirement already satisfied: appdirs>=1.4.4 in /usr/local/lib/python3.8/dist-packages (from yfinance) (1.4.4)\n",
            "Requirement already satisfied: python-dateutil>=2.7.3 in /usr/local/lib/python3.8/dist-packages (from pandas>=1.3.0->yfinance) (2.8.2)\n",
            "Requirement already satisfied: pytz>=2017.3 in /usr/local/lib/python3.8/dist-packages (from pandas>=1.3.0->yfinance) (2022.6)\n",
            "Requirement already satisfied: six>=1.5 in /usr/local/lib/python3.8/dist-packages (from python-dateutil>=2.7.3->pandas>=1.3.0->yfinance) (1.15.0)\n",
            "Requirement already satisfied: charset-normalizer<3,>=2 in /usr/local/lib/python3.8/dist-packages (from requests>=2.26->yfinance) (2.1.1)\n",
            "Requirement already satisfied: certifi>=2017.4.17 in /usr/local/lib/python3.8/dist-packages (from requests>=2.26->yfinance) (2022.12.7)\n",
            "Requirement already satisfied: urllib3<1.27,>=1.21.1 in /usr/local/lib/python3.8/dist-packages (from requests>=2.26->yfinance) (1.24.3)\n",
            "Requirement already satisfied: idna<4,>=2.5 in /usr/local/lib/python3.8/dist-packages (from requests>=2.26->yfinance) (2.10)\n",
            "Installing collected packages: requests, yfinance\n",
            "  Attempting uninstall: requests\n",
            "    Found existing installation: requests 2.23.0\n",
            "    Uninstalling requests-2.23.0:\n",
            "      Successfully uninstalled requests-2.23.0\n",
            "Successfully installed requests-2.28.1 yfinance-0.1.90\n"
          ]
        }
      ]
    },
    {
      "cell_type": "code",
      "source": [
        "import yfinance as yf"
      ],
      "metadata": {
        "execution": {
          "iopub.status.busy": "2022-12-17T11:59:10.378980Z",
          "iopub.execute_input": "2022-12-17T11:59:10.379368Z",
          "iopub.status.idle": "2022-12-17T11:59:10.402771Z",
          "shell.execute_reply.started": "2022-12-17T11:59:10.379329Z",
          "shell.execute_reply": "2022-12-17T11:59:10.401906Z"
        },
        "trusted": true,
        "id": "1ov9Nm6SB-ky"
      },
      "execution_count": 3,
      "outputs": []
    },
    {
      "cell_type": "code",
      "source": [
        "stock_symbol = 'GAIL.NS'"
      ],
      "metadata": {
        "execution": {
          "iopub.status.busy": "2022-12-17T11:59:10.403715Z",
          "iopub.execute_input": "2022-12-17T11:59:10.404074Z",
          "iopub.status.idle": "2022-12-17T11:59:10.409701Z",
          "shell.execute_reply.started": "2022-12-17T11:59:10.404043Z",
          "shell.execute_reply": "2022-12-17T11:59:10.408493Z"
        },
        "trusted": true,
        "id": "sq1yurskB-kz"
      },
      "execution_count": 4,
      "outputs": []
    },
    {
      "cell_type": "code",
      "source": [
        "data = yf.download(tickers = stock_symbol,period ='5y',interval ='1d')"
      ],
      "metadata": {
        "execution": {
          "iopub.status.busy": "2022-12-17T11:59:10.412964Z",
          "iopub.execute_input": "2022-12-17T11:59:10.414427Z",
          "iopub.status.idle": "2022-12-17T11:59:10.970110Z",
          "shell.execute_reply.started": "2022-12-17T11:59:10.414376Z",
          "shell.execute_reply": "2022-12-17T11:59:10.968729Z"
        },
        "trusted": true,
        "colab": {
          "base_uri": "https://localhost:8080/",
          "height": 0
        },
        "id": "vS1uY1XXB-kz",
        "outputId": "15566723-5151-4ac7-d93e-1dc07d2a9d72"
      },
      "execution_count": 5,
      "outputs": [
        {
          "output_type": "stream",
          "name": "stdout",
          "text": [
            "\r[*********************100%***********************]  1 of 1 completed\n"
          ]
        }
      ]
    },
    {
      "cell_type": "code",
      "source": [
        "type(data)"
      ],
      "metadata": {
        "execution": {
          "iopub.status.busy": "2022-12-17T11:59:10.973753Z",
          "iopub.execute_input": "2022-12-17T11:59:10.974116Z",
          "iopub.status.idle": "2022-12-17T11:59:10.984984Z",
          "shell.execute_reply.started": "2022-12-17T11:59:10.974086Z",
          "shell.execute_reply": "2022-12-17T11:59:10.983812Z"
        },
        "trusted": true,
        "colab": {
          "base_uri": "https://localhost:8080/",
          "height": 0
        },
        "id": "Fv_4SiajB-kz",
        "outputId": "eb98394f-8785-43aa-89fa-013822157e72"
      },
      "execution_count": 6,
      "outputs": [
        {
          "output_type": "execute_result",
          "data": {
            "text/plain": [
              "pandas.core.frame.DataFrame"
            ]
          },
          "metadata": {},
          "execution_count": 6
        }
      ]
    },
    {
      "cell_type": "code",
      "source": [
        "data.head()"
      ],
      "metadata": {
        "execution": {
          "iopub.status.busy": "2022-12-17T11:59:10.986391Z",
          "iopub.execute_input": "2022-12-17T11:59:10.986804Z",
          "iopub.status.idle": "2022-12-17T11:59:11.010337Z",
          "shell.execute_reply.started": "2022-12-17T11:59:10.986771Z",
          "shell.execute_reply": "2022-12-17T11:59:11.009443Z"
        },
        "trusted": true,
        "colab": {
          "base_uri": "https://localhost:8080/",
          "height": 238
        },
        "id": "ZltbipYyB-k0",
        "outputId": "e64eade5-b63f-4224-b08a-4e071844a450"
      },
      "execution_count": 7,
      "outputs": [
        {
          "output_type": "execute_result",
          "data": {
            "text/plain": [
              "                  Open        High         Low       Close   Adj Close  \\\n",
              "Date                                                                     \n",
              "2017-12-18  121.975029  126.112534  118.962532  124.000031  100.664841   \n",
              "2017-12-19  124.125031  125.737534  122.400032  124.137527  100.776451   \n",
              "2017-12-20  124.525032  127.375031  124.250031  124.850029  101.354866   \n",
              "2017-12-21  125.500031  126.500031  124.587532  125.375031  101.781067   \n",
              "2017-12-22  125.425034  127.175034  125.150032  125.775032  102.105804   \n",
              "\n",
              "              Volume  \n",
              "Date                  \n",
              "2017-12-18  25651817  \n",
              "2017-12-19  11376621  \n",
              "2017-12-20  17112567  \n",
              "2017-12-21   9272425  \n",
              "2017-12-22  12435376  "
            ],
            "text/html": [
              "\n",
              "  <div id=\"df-34a97fbf-5b59-4fc0-b06e-db997304fe20\">\n",
              "    <div class=\"colab-df-container\">\n",
              "      <div>\n",
              "<style scoped>\n",
              "    .dataframe tbody tr th:only-of-type {\n",
              "        vertical-align: middle;\n",
              "    }\n",
              "\n",
              "    .dataframe tbody tr th {\n",
              "        vertical-align: top;\n",
              "    }\n",
              "\n",
              "    .dataframe thead th {\n",
              "        text-align: right;\n",
              "    }\n",
              "</style>\n",
              "<table border=\"1\" class=\"dataframe\">\n",
              "  <thead>\n",
              "    <tr style=\"text-align: right;\">\n",
              "      <th></th>\n",
              "      <th>Open</th>\n",
              "      <th>High</th>\n",
              "      <th>Low</th>\n",
              "      <th>Close</th>\n",
              "      <th>Adj Close</th>\n",
              "      <th>Volume</th>\n",
              "    </tr>\n",
              "    <tr>\n",
              "      <th>Date</th>\n",
              "      <th></th>\n",
              "      <th></th>\n",
              "      <th></th>\n",
              "      <th></th>\n",
              "      <th></th>\n",
              "      <th></th>\n",
              "    </tr>\n",
              "  </thead>\n",
              "  <tbody>\n",
              "    <tr>\n",
              "      <th>2017-12-18</th>\n",
              "      <td>121.975029</td>\n",
              "      <td>126.112534</td>\n",
              "      <td>118.962532</td>\n",
              "      <td>124.000031</td>\n",
              "      <td>100.664841</td>\n",
              "      <td>25651817</td>\n",
              "    </tr>\n",
              "    <tr>\n",
              "      <th>2017-12-19</th>\n",
              "      <td>124.125031</td>\n",
              "      <td>125.737534</td>\n",
              "      <td>122.400032</td>\n",
              "      <td>124.137527</td>\n",
              "      <td>100.776451</td>\n",
              "      <td>11376621</td>\n",
              "    </tr>\n",
              "    <tr>\n",
              "      <th>2017-12-20</th>\n",
              "      <td>124.525032</td>\n",
              "      <td>127.375031</td>\n",
              "      <td>124.250031</td>\n",
              "      <td>124.850029</td>\n",
              "      <td>101.354866</td>\n",
              "      <td>17112567</td>\n",
              "    </tr>\n",
              "    <tr>\n",
              "      <th>2017-12-21</th>\n",
              "      <td>125.500031</td>\n",
              "      <td>126.500031</td>\n",
              "      <td>124.587532</td>\n",
              "      <td>125.375031</td>\n",
              "      <td>101.781067</td>\n",
              "      <td>9272425</td>\n",
              "    </tr>\n",
              "    <tr>\n",
              "      <th>2017-12-22</th>\n",
              "      <td>125.425034</td>\n",
              "      <td>127.175034</td>\n",
              "      <td>125.150032</td>\n",
              "      <td>125.775032</td>\n",
              "      <td>102.105804</td>\n",
              "      <td>12435376</td>\n",
              "    </tr>\n",
              "  </tbody>\n",
              "</table>\n",
              "</div>\n",
              "      <button class=\"colab-df-convert\" onclick=\"convertToInteractive('df-34a97fbf-5b59-4fc0-b06e-db997304fe20')\"\n",
              "              title=\"Convert this dataframe to an interactive table.\"\n",
              "              style=\"display:none;\">\n",
              "        \n",
              "  <svg xmlns=\"http://www.w3.org/2000/svg\" height=\"24px\"viewBox=\"0 0 24 24\"\n",
              "       width=\"24px\">\n",
              "    <path d=\"M0 0h24v24H0V0z\" fill=\"none\"/>\n",
              "    <path d=\"M18.56 5.44l.94 2.06.94-2.06 2.06-.94-2.06-.94-.94-2.06-.94 2.06-2.06.94zm-11 1L8.5 8.5l.94-2.06 2.06-.94-2.06-.94L8.5 2.5l-.94 2.06-2.06.94zm10 10l.94 2.06.94-2.06 2.06-.94-2.06-.94-.94-2.06-.94 2.06-2.06.94z\"/><path d=\"M17.41 7.96l-1.37-1.37c-.4-.4-.92-.59-1.43-.59-.52 0-1.04.2-1.43.59L10.3 9.45l-7.72 7.72c-.78.78-.78 2.05 0 2.83L4 21.41c.39.39.9.59 1.41.59.51 0 1.02-.2 1.41-.59l7.78-7.78 2.81-2.81c.8-.78.8-2.07 0-2.86zM5.41 20L4 18.59l7.72-7.72 1.47 1.35L5.41 20z\"/>\n",
              "  </svg>\n",
              "      </button>\n",
              "      \n",
              "  <style>\n",
              "    .colab-df-container {\n",
              "      display:flex;\n",
              "      flex-wrap:wrap;\n",
              "      gap: 12px;\n",
              "    }\n",
              "\n",
              "    .colab-df-convert {\n",
              "      background-color: #E8F0FE;\n",
              "      border: none;\n",
              "      border-radius: 50%;\n",
              "      cursor: pointer;\n",
              "      display: none;\n",
              "      fill: #1967D2;\n",
              "      height: 32px;\n",
              "      padding: 0 0 0 0;\n",
              "      width: 32px;\n",
              "    }\n",
              "\n",
              "    .colab-df-convert:hover {\n",
              "      background-color: #E2EBFA;\n",
              "      box-shadow: 0px 1px 2px rgba(60, 64, 67, 0.3), 0px 1px 3px 1px rgba(60, 64, 67, 0.15);\n",
              "      fill: #174EA6;\n",
              "    }\n",
              "\n",
              "    [theme=dark] .colab-df-convert {\n",
              "      background-color: #3B4455;\n",
              "      fill: #D2E3FC;\n",
              "    }\n",
              "\n",
              "    [theme=dark] .colab-df-convert:hover {\n",
              "      background-color: #434B5C;\n",
              "      box-shadow: 0px 1px 3px 1px rgba(0, 0, 0, 0.15);\n",
              "      filter: drop-shadow(0px 1px 2px rgba(0, 0, 0, 0.3));\n",
              "      fill: #FFFFFF;\n",
              "    }\n",
              "  </style>\n",
              "\n",
              "      <script>\n",
              "        const buttonEl =\n",
              "          document.querySelector('#df-34a97fbf-5b59-4fc0-b06e-db997304fe20 button.colab-df-convert');\n",
              "        buttonEl.style.display =\n",
              "          google.colab.kernel.accessAllowed ? 'block' : 'none';\n",
              "\n",
              "        async function convertToInteractive(key) {\n",
              "          const element = document.querySelector('#df-34a97fbf-5b59-4fc0-b06e-db997304fe20');\n",
              "          const dataTable =\n",
              "            await google.colab.kernel.invokeFunction('convertToInteractive',\n",
              "                                                     [key], {});\n",
              "          if (!dataTable) return;\n",
              "\n",
              "          const docLinkHtml = 'Like what you see? Visit the ' +\n",
              "            '<a target=\"_blank\" href=https://colab.research.google.com/notebooks/data_table.ipynb>data table notebook</a>'\n",
              "            + ' to learn more about interactive tables.';\n",
              "          element.innerHTML = '';\n",
              "          dataTable['output_type'] = 'display_data';\n",
              "          await google.colab.output.renderOutput(dataTable, element);\n",
              "          const docLink = document.createElement('div');\n",
              "          docLink.innerHTML = docLinkHtml;\n",
              "          element.appendChild(docLink);\n",
              "        }\n",
              "      </script>\n",
              "    </div>\n",
              "  </div>\n",
              "  "
            ]
          },
          "metadata": {},
          "execution_count": 7
        }
      ]
    },
    {
      "cell_type": "code",
      "source": [
        "data.tail()"
      ],
      "metadata": {
        "execution": {
          "iopub.status.busy": "2022-12-17T11:59:11.011379Z",
          "iopub.execute_input": "2022-12-17T11:59:11.011700Z",
          "iopub.status.idle": "2022-12-17T11:59:11.028234Z",
          "shell.execute_reply.started": "2022-12-17T11:59:11.011672Z",
          "shell.execute_reply": "2022-12-17T11:59:11.026652Z"
        },
        "trusted": true,
        "colab": {
          "base_uri": "https://localhost:8080/",
          "height": 238
        },
        "id": "1GkLH4_4B-k1",
        "outputId": "b71553bb-5496-47bf-8a96-eee893ae9990"
      },
      "execution_count": 8,
      "outputs": [
        {
          "output_type": "execute_result",
          "data": {
            "text/plain": [
              "                 Open        High        Low      Close  Adj Close    Volume\n",
              "Date                                                                        \n",
              "2022-12-12  91.099998   93.400002  90.199997  92.800003  92.800003  15920076\n",
              "2022-12-13  93.150002   94.000000  92.699997  93.250000  93.250000  11215454\n",
              "2022-12-14  93.250000   96.300003  93.150002  96.000000  96.000000  22598875\n",
              "2022-12-15  96.150002   98.400002  95.449997  97.349998  97.349998  28006772\n",
              "2022-12-16  97.199997  100.199997  96.599998  96.750000  96.750000  35484499"
            ],
            "text/html": [
              "\n",
              "  <div id=\"df-1b07ef02-301f-47b4-901a-dd604716d8da\">\n",
              "    <div class=\"colab-df-container\">\n",
              "      <div>\n",
              "<style scoped>\n",
              "    .dataframe tbody tr th:only-of-type {\n",
              "        vertical-align: middle;\n",
              "    }\n",
              "\n",
              "    .dataframe tbody tr th {\n",
              "        vertical-align: top;\n",
              "    }\n",
              "\n",
              "    .dataframe thead th {\n",
              "        text-align: right;\n",
              "    }\n",
              "</style>\n",
              "<table border=\"1\" class=\"dataframe\">\n",
              "  <thead>\n",
              "    <tr style=\"text-align: right;\">\n",
              "      <th></th>\n",
              "      <th>Open</th>\n",
              "      <th>High</th>\n",
              "      <th>Low</th>\n",
              "      <th>Close</th>\n",
              "      <th>Adj Close</th>\n",
              "      <th>Volume</th>\n",
              "    </tr>\n",
              "    <tr>\n",
              "      <th>Date</th>\n",
              "      <th></th>\n",
              "      <th></th>\n",
              "      <th></th>\n",
              "      <th></th>\n",
              "      <th></th>\n",
              "      <th></th>\n",
              "    </tr>\n",
              "  </thead>\n",
              "  <tbody>\n",
              "    <tr>\n",
              "      <th>2022-12-12</th>\n",
              "      <td>91.099998</td>\n",
              "      <td>93.400002</td>\n",
              "      <td>90.199997</td>\n",
              "      <td>92.800003</td>\n",
              "      <td>92.800003</td>\n",
              "      <td>15920076</td>\n",
              "    </tr>\n",
              "    <tr>\n",
              "      <th>2022-12-13</th>\n",
              "      <td>93.150002</td>\n",
              "      <td>94.000000</td>\n",
              "      <td>92.699997</td>\n",
              "      <td>93.250000</td>\n",
              "      <td>93.250000</td>\n",
              "      <td>11215454</td>\n",
              "    </tr>\n",
              "    <tr>\n",
              "      <th>2022-12-14</th>\n",
              "      <td>93.250000</td>\n",
              "      <td>96.300003</td>\n",
              "      <td>93.150002</td>\n",
              "      <td>96.000000</td>\n",
              "      <td>96.000000</td>\n",
              "      <td>22598875</td>\n",
              "    </tr>\n",
              "    <tr>\n",
              "      <th>2022-12-15</th>\n",
              "      <td>96.150002</td>\n",
              "      <td>98.400002</td>\n",
              "      <td>95.449997</td>\n",
              "      <td>97.349998</td>\n",
              "      <td>97.349998</td>\n",
              "      <td>28006772</td>\n",
              "    </tr>\n",
              "    <tr>\n",
              "      <th>2022-12-16</th>\n",
              "      <td>97.199997</td>\n",
              "      <td>100.199997</td>\n",
              "      <td>96.599998</td>\n",
              "      <td>96.750000</td>\n",
              "      <td>96.750000</td>\n",
              "      <td>35484499</td>\n",
              "    </tr>\n",
              "  </tbody>\n",
              "</table>\n",
              "</div>\n",
              "      <button class=\"colab-df-convert\" onclick=\"convertToInteractive('df-1b07ef02-301f-47b4-901a-dd604716d8da')\"\n",
              "              title=\"Convert this dataframe to an interactive table.\"\n",
              "              style=\"display:none;\">\n",
              "        \n",
              "  <svg xmlns=\"http://www.w3.org/2000/svg\" height=\"24px\"viewBox=\"0 0 24 24\"\n",
              "       width=\"24px\">\n",
              "    <path d=\"M0 0h24v24H0V0z\" fill=\"none\"/>\n",
              "    <path d=\"M18.56 5.44l.94 2.06.94-2.06 2.06-.94-2.06-.94-.94-2.06-.94 2.06-2.06.94zm-11 1L8.5 8.5l.94-2.06 2.06-.94-2.06-.94L8.5 2.5l-.94 2.06-2.06.94zm10 10l.94 2.06.94-2.06 2.06-.94-2.06-.94-.94-2.06-.94 2.06-2.06.94z\"/><path d=\"M17.41 7.96l-1.37-1.37c-.4-.4-.92-.59-1.43-.59-.52 0-1.04.2-1.43.59L10.3 9.45l-7.72 7.72c-.78.78-.78 2.05 0 2.83L4 21.41c.39.39.9.59 1.41.59.51 0 1.02-.2 1.41-.59l7.78-7.78 2.81-2.81c.8-.78.8-2.07 0-2.86zM5.41 20L4 18.59l7.72-7.72 1.47 1.35L5.41 20z\"/>\n",
              "  </svg>\n",
              "      </button>\n",
              "      \n",
              "  <style>\n",
              "    .colab-df-container {\n",
              "      display:flex;\n",
              "      flex-wrap:wrap;\n",
              "      gap: 12px;\n",
              "    }\n",
              "\n",
              "    .colab-df-convert {\n",
              "      background-color: #E8F0FE;\n",
              "      border: none;\n",
              "      border-radius: 50%;\n",
              "      cursor: pointer;\n",
              "      display: none;\n",
              "      fill: #1967D2;\n",
              "      height: 32px;\n",
              "      padding: 0 0 0 0;\n",
              "      width: 32px;\n",
              "    }\n",
              "\n",
              "    .colab-df-convert:hover {\n",
              "      background-color: #E2EBFA;\n",
              "      box-shadow: 0px 1px 2px rgba(60, 64, 67, 0.3), 0px 1px 3px 1px rgba(60, 64, 67, 0.15);\n",
              "      fill: #174EA6;\n",
              "    }\n",
              "\n",
              "    [theme=dark] .colab-df-convert {\n",
              "      background-color: #3B4455;\n",
              "      fill: #D2E3FC;\n",
              "    }\n",
              "\n",
              "    [theme=dark] .colab-df-convert:hover {\n",
              "      background-color: #434B5C;\n",
              "      box-shadow: 0px 1px 3px 1px rgba(0, 0, 0, 0.15);\n",
              "      filter: drop-shadow(0px 1px 2px rgba(0, 0, 0, 0.3));\n",
              "      fill: #FFFFFF;\n",
              "    }\n",
              "  </style>\n",
              "\n",
              "      <script>\n",
              "        const buttonEl =\n",
              "          document.querySelector('#df-1b07ef02-301f-47b4-901a-dd604716d8da button.colab-df-convert');\n",
              "        buttonEl.style.display =\n",
              "          google.colab.kernel.accessAllowed ? 'block' : 'none';\n",
              "\n",
              "        async function convertToInteractive(key) {\n",
              "          const element = document.querySelector('#df-1b07ef02-301f-47b4-901a-dd604716d8da');\n",
              "          const dataTable =\n",
              "            await google.colab.kernel.invokeFunction('convertToInteractive',\n",
              "                                                     [key], {});\n",
              "          if (!dataTable) return;\n",
              "\n",
              "          const docLinkHtml = 'Like what you see? Visit the ' +\n",
              "            '<a target=\"_blank\" href=https://colab.research.google.com/notebooks/data_table.ipynb>data table notebook</a>'\n",
              "            + ' to learn more about interactive tables.';\n",
              "          element.innerHTML = '';\n",
              "          dataTable['output_type'] = 'display_data';\n",
              "          await google.colab.output.renderOutput(dataTable, element);\n",
              "          const docLink = document.createElement('div');\n",
              "          docLink.innerHTML = docLinkHtml;\n",
              "          element.appendChild(docLink);\n",
              "        }\n",
              "      </script>\n",
              "    </div>\n",
              "  </div>\n",
              "  "
            ]
          },
          "metadata": {},
          "execution_count": 8
        }
      ]
    },
    {
      "cell_type": "code",
      "source": [
        "opn = data[['Open']]"
      ],
      "metadata": {
        "execution": {
          "iopub.status.busy": "2022-12-17T11:59:11.030099Z",
          "iopub.execute_input": "2022-12-17T11:59:11.030453Z",
          "iopub.status.idle": "2022-12-17T11:59:11.036330Z",
          "shell.execute_reply.started": "2022-12-17T11:59:11.030421Z",
          "shell.execute_reply": "2022-12-17T11:59:11.035009Z"
        },
        "trusted": true,
        "id": "s8P9DYphB-k1"
      },
      "execution_count": 9,
      "outputs": []
    },
    {
      "cell_type": "code",
      "source": [
        "opn.plot()"
      ],
      "metadata": {
        "execution": {
          "iopub.status.busy": "2022-12-17T11:59:11.039049Z",
          "iopub.execute_input": "2022-12-17T11:59:11.039417Z",
          "iopub.status.idle": "2022-12-17T11:59:11.390796Z",
          "shell.execute_reply.started": "2022-12-17T11:59:11.039386Z",
          "shell.execute_reply": "2022-12-17T11:59:11.389785Z"
        },
        "trusted": true,
        "colab": {
          "base_uri": "https://localhost:8080/",
          "height": 286
        },
        "id": "PoASZY__B-k2",
        "outputId": "d9703f08-25e7-4309-9f05-a798630db8f7"
      },
      "execution_count": 10,
      "outputs": [
        {
          "output_type": "execute_result",
          "data": {
            "text/plain": [
              "<matplotlib.axes._subplots.AxesSubplot at 0x7f436bf7f100>"
            ]
          },
          "metadata": {},
          "execution_count": 10
        },
        {
          "output_type": "display_data",
          "data": {
            "text/plain": [
              "<Figure size 432x288 with 1 Axes>"
            ],
            "image/png": "[encoded data removed]"
          },
          "metadata": {
            "needs_background": "light"
          }
        }
      ]
    },
    {
      "cell_type": "code",
      "source": [
        "import matplotlib.pyplot as plt"
      ],
      "metadata": {
        "execution": {
          "iopub.status.busy": "2022-12-17T11:59:11.394573Z",
          "iopub.execute_input": "2022-12-17T11:59:11.395308Z",
          "iopub.status.idle": "2022-12-17T11:59:11.400656Z",
          "shell.execute_reply.started": "2022-12-17T11:59:11.395268Z",
          "shell.execute_reply": "2022-12-17T11:59:11.399241Z"
        },
        "trusted": true,
        "id": "pSqCM-BaB-k2"
      },
      "execution_count": 11,
      "outputs": []
    },
    {
      "cell_type": "code",
      "source": [
        "ds = opn.values"
      ],
      "metadata": {
        "execution": {
          "iopub.status.busy": "2022-12-17T11:59:11.402107Z",
          "iopub.execute_input": "2022-12-17T11:59:11.402498Z",
          "iopub.status.idle": "2022-12-17T11:59:11.413008Z",
          "shell.execute_reply.started": "2022-12-17T11:59:11.402465Z",
          "shell.execute_reply": "2022-12-17T11:59:11.411667Z"
        },
        "trusted": true,
        "id": "1ci79ZfLB-k3"
      },
      "execution_count": 12,
      "outputs": []
    },
    {
      "cell_type": "code",
      "source": [
        "ds"
      ],
      "metadata": {
        "execution": {
          "iopub.status.busy": "2022-12-17T11:59:11.414556Z",
          "iopub.execute_input": "2022-12-17T11:59:11.415470Z",
          "iopub.status.idle": "2022-12-17T11:59:11.427020Z",
          "shell.execute_reply.started": "2022-12-17T11:59:11.415430Z",
          "shell.execute_reply": "2022-12-17T11:59:11.425508Z"
        },
        "trusted": true,
        "colab": {
          "base_uri": "https://localhost:8080/",
          "height": 0
        },
        "id": "LDZy0EYhB-k3",
        "outputId": "2efad4e4-6fbe-4e66-92d8-0d53bd0ef023"
      },
      "execution_count": 13,
      "outputs": [
        {
          "output_type": "execute_result",
          "data": {
            "text/plain": [
              "array([[121.97502899],\n",
              "       [124.12503052],\n",
              "       [124.52503204],\n",
              "       ...,\n",
              "       [ 93.25      ],\n",
              "       [ 96.15000153],\n",
              "       [ 97.19999695]])"
            ]
          },
          "metadata": {},
          "execution_count": 13
        }
      ]
    },
    {
      "cell_type": "code",
      "source": [
        "plt.plot(ds);"
      ],
      "metadata": {
        "execution": {
          "iopub.status.busy": "2022-12-17T11:59:11.428737Z",
          "iopub.execute_input": "2022-12-17T11:59:11.429775Z",
          "iopub.status.idle": "2022-12-17T11:59:11.642103Z",
          "shell.execute_reply.started": "2022-12-17T11:59:11.429737Z",
          "shell.execute_reply": "2022-12-17T11:59:11.640812Z"
        },
        "trusted": true,
        "colab": {
          "base_uri": "https://localhost:8080/",
          "height": 265
        },
        "id": "eWbGB_ZPB-k3",
        "outputId": "5f7e662f-374c-4923-aa07-6bfd895bf6a9"
      },
      "execution_count": 14,
      "outputs": [
        {
          "output_type": "display_data",
          "data": {
            "text/plain": [
              "<Figure size 432x288 with 1 Axes>"
            ],
            "image/png": "[encoded data removed]"
          },
          "metadata": {
            "needs_background": "light"
          }
        }
      ]
    },
    {
      "cell_type": "code",
      "source": [
        "import numpy as np"
      ],
      "metadata": {
        "execution": {
          "iopub.status.busy": "2022-12-17T11:59:11.643998Z",
          "iopub.execute_input": "2022-12-17T11:59:11.644477Z",
          "iopub.status.idle": "2022-12-17T11:59:11.649778Z",
          "shell.execute_reply.started": "2022-12-17T11:59:11.644433Z",
          "shell.execute_reply": "2022-12-17T11:59:11.648516Z"
        },
        "trusted": true,
        "id": "BH7VXjLXB-k4"
      },
      "execution_count": 15,
      "outputs": []
    },
    {
      "cell_type": "code",
      "source": [
        "from sklearn.preprocessing import MinMaxScaler"
      ],
      "metadata": {
        "execution": {
          "iopub.status.busy": "2022-12-17T11:59:11.651697Z",
          "iopub.execute_input": "2022-12-17T11:59:11.652090Z",
          "iopub.status.idle": "2022-12-17T11:59:12.812653Z",
          "shell.execute_reply.started": "2022-12-17T11:59:11.652057Z",
          "shell.execute_reply": "2022-12-17T11:59:12.811259Z"
        },
        "trusted": true,
        "id": "MBLXMAKVB-k4"
      },
      "execution_count": 16,
      "outputs": []
    },
    {
      "cell_type": "code",
      "source": [
        "normalizer = MinMaxScaler(feature_range=(0,1))\n",
        "ds_scaled = normalizer.fit_transform(np.array(ds).reshape(-1,1))"
      ],
      "metadata": {
        "execution": {
          "iopub.status.busy": "2022-12-17T11:59:12.814240Z",
          "iopub.execute_input": "2022-12-17T11:59:12.814748Z",
          "iopub.status.idle": "2022-12-17T11:59:12.822278Z",
          "shell.execute_reply.started": "2022-12-17T11:59:12.814702Z",
          "shell.execute_reply": "2022-12-17T11:59:12.820958Z"
        },
        "trusted": true,
        "id": "syVwgLj1B-k5"
      },
      "execution_count": 17,
      "outputs": []
    },
    {
      "cell_type": "code",
      "source": [
        "len(ds_scaled),len(ds)"
      ],
      "metadata": {
        "execution": {
          "iopub.status.busy": "2022-12-17T11:59:12.824715Z",
          "iopub.execute_input": "2022-12-17T11:59:12.825392Z",
          "iopub.status.idle": "2022-12-17T11:59:12.842092Z",
          "shell.execute_reply.started": "2022-12-17T11:59:12.825345Z",
          "shell.execute_reply": "2022-12-17T11:59:12.841102Z"
        },
        "trusted": true,
        "colab": {
          "base_uri": "https://localhost:8080/",
          "height": 0
        },
        "id": "4s71ExEzB-k5",
        "outputId": "c7148882-3040-4e45-ac73-2763fc79fb05"
      },
      "execution_count": 18,
      "outputs": [
        {
          "output_type": "execute_result",
          "data": {
            "text/plain": [
              "(1235, 1235)"
            ]
          },
          "metadata": {},
          "execution_count": 18
        }
      ]
    },
    {
      "cell_type": "code",
      "source": [
        "train_size = int(len(ds_scaled)*0.70)\n",
        "test_size = len(ds_scaled)-train_size"
      ],
      "metadata": {
        "execution": {
          "iopub.status.busy": "2022-12-17T11:59:12.843393Z",
          "iopub.execute_input": "2022-12-17T11:59:12.844260Z",
          "iopub.status.idle": "2022-12-17T11:59:12.852583Z",
          "shell.execute_reply.started": "2022-12-17T11:59:12.844223Z",
          "shell.execute_reply": "2022-12-17T11:59:12.851164Z"
        },
        "trusted": true,
        "id": "XQ6fg4DYB-k6"
      },
      "execution_count": 19,
      "outputs": []
    },
    {
      "cell_type": "code",
      "source": [
        "train_size,test_size"
      ],
      "metadata": {
        "execution": {
          "iopub.status.busy": "2022-12-17T11:59:12.854369Z",
          "iopub.execute_input": "2022-12-17T11:59:12.855303Z",
          "iopub.status.idle": "2022-12-17T11:59:12.868777Z",
          "shell.execute_reply.started": "2022-12-17T11:59:12.855256Z",
          "shell.execute_reply": "2022-12-17T11:59:12.867799Z"
        },
        "trusted": true,
        "colab": {
          "base_uri": "https://localhost:8080/",
          "height": 0
        },
        "id": "45td1eq-B-k6",
        "outputId": "e3d61ffd-8b75-4929-e075-4e7ed81fdc6f"
      },
      "execution_count": 20,
      "outputs": [
        {
          "output_type": "execute_result",
          "data": {
            "text/plain": [
              "(864, 371)"
            ]
          },
          "metadata": {},
          "execution_count": 20
        }
      ]
    },
    {
      "cell_type": "code",
      "source": [
        "ds_train,ds_test = ds_scaled[0:train_size,:],ds_scaled[train_size:len(ds_scaled),:1]"
      ],
      "metadata": {
        "execution": {
          "iopub.status.busy": "2022-12-17T11:59:12.870092Z",
          "iopub.execute_input": "2022-12-17T11:59:12.871094Z",
          "iopub.status.idle": "2022-12-17T11:59:12.878293Z",
          "shell.execute_reply.started": "2022-12-17T11:59:12.871057Z",
          "shell.execute_reply": "2022-12-17T11:59:12.877177Z"
        },
        "trusted": true,
        "id": "iJNg7DfrB-k6"
      },
      "execution_count": 21,
      "outputs": []
    },
    {
      "cell_type": "code",
      "source": [
        "len(ds_train),len(ds_test)"
      ],
      "metadata": {
        "execution": {
          "iopub.status.busy": "2022-12-17T11:59:12.879543Z",
          "iopub.execute_input": "2022-12-17T11:59:12.880512Z",
          "iopub.status.idle": "2022-12-17T11:59:12.893469Z",
          "shell.execute_reply.started": "2022-12-17T11:59:12.880461Z",
          "shell.execute_reply": "2022-12-17T11:59:12.891912Z"
        },
        "trusted": true,
        "colab": {
          "base_uri": "https://localhost:8080/",
          "height": 0
        },
        "id": "AuIgW8y3B-k7",
        "outputId": "188008bf-bdd1-47e3-c789-40437402c13a"
      },
      "execution_count": 22,
      "outputs": [
        {
          "output_type": "execute_result",
          "data": {
            "text/plain": [
              "(864, 371)"
            ]
          },
          "metadata": {},
          "execution_count": 22
        }
      ]
    },
    {
      "cell_type": "code",
      "source": [
        "#creating dataset in time series for LSTM\n",
        "def create_ds(dataset,step):\n",
        "    Xtrain,Ytrain = [],[]\n",
        "    for i in range(len(dataset)-step-1):\n",
        "        a = dataset[i:(i+step),0]\n",
        "        Xtrain.append(a)\n",
        "        Ytrain.append(dataset[i+step,0])\n",
        "    return np.array(Xtrain),np.array(Ytrain)"
      ],
      "metadata": {
        "execution": {
          "iopub.status.busy": "2022-12-17T11:59:12.895239Z",
          "iopub.execute_input": "2022-12-17T11:59:12.895617Z",
          "iopub.status.idle": "2022-12-17T11:59:12.904644Z",
          "shell.execute_reply.started": "2022-12-17T11:59:12.895585Z",
          "shell.execute_reply": "2022-12-17T11:59:12.903093Z"
        },
        "trusted": true,
        "id": "iDkVlxWDB-k7"
      },
      "execution_count": 23,
      "outputs": []
    },
    {
      "cell_type": "code",
      "source": [
        "#taking 100 days price as one record for training\n",
        "time_stamp = 100\n",
        "x_train,y_train = create_ds(ds_train,time_stamp)\n",
        "x_test,y_test = create_ds(ds_test,time_stamp)"
      ],
      "metadata": {
        "execution": {
          "iopub.status.busy": "2022-12-17T11:59:12.906374Z",
          "iopub.execute_input": "2022-12-17T11:59:12.906878Z",
          "iopub.status.idle": "2022-12-17T11:59:12.918846Z",
          "shell.execute_reply.started": "2022-12-17T11:59:12.906840Z",
          "shell.execute_reply": "2022-12-17T11:59:12.917141Z"
        },
        "trusted": true,
        "id": "ceoCwEdkB-k7"
      },
      "execution_count": 24,
      "outputs": []
    },
    {
      "cell_type": "code",
      "source": [
        "x_train.shape,y_train.shape"
      ],
      "metadata": {
        "execution": {
          "iopub.status.busy": "2022-12-17T11:59:12.920844Z",
          "iopub.execute_input": "2022-12-17T11:59:12.921560Z",
          "iopub.status.idle": "2022-12-17T11:59:12.935104Z",
          "shell.execute_reply.started": "2022-12-17T11:59:12.921519Z",
          "shell.execute_reply": "2022-12-17T11:59:12.933814Z"
        },
        "trusted": true,
        "colab": {
          "base_uri": "https://localhost:8080/",
          "height": 0
        },
        "id": "E_XSBTlhB-k7",
        "outputId": "a20e135d-e5c2-4a0d-c300-bbe58948de03"
      },
      "execution_count": 25,
      "outputs": [
        {
          "output_type": "execute_result",
          "data": {
            "text/plain": [
              "((763, 100), (763,))"
            ]
          },
          "metadata": {},
          "execution_count": 25
        }
      ]
    },
    {
      "cell_type": "code",
      "source": [
        "x_test.shape,y_test.shape"
      ],
      "metadata": {
        "execution": {
          "iopub.status.busy": "2022-12-17T11:59:12.936944Z",
          "iopub.execute_input": "2022-12-17T11:59:12.937516Z",
          "iopub.status.idle": "2022-12-17T11:59:12.947951Z",
          "shell.execute_reply.started": "2022-12-17T11:59:12.937476Z",
          "shell.execute_reply": "2022-12-17T11:59:12.946859Z"
        },
        "trusted": true,
        "colab": {
          "base_uri": "https://localhost:8080/",
          "height": 0
        },
        "id": "qwudY1ZRB-k7",
        "outputId": "325085af-6499-45bf-93ba-ece11c06eab3"
      },
      "execution_count": 26,
      "outputs": [
        {
          "output_type": "execute_result",
          "data": {
            "text/plain": [
              "((270, 100), (270,))"
            ]
          },
          "metadata": {},
          "execution_count": 26
        }
      ]
    },
    {
      "cell_type": "code",
      "source": [
        "#reshaping data to fit into LSTM model\n",
        "x_train =x_train.reshape(x_train.shape[0],x_train.shape[1],1)\n",
        "x_test =x_test.reshape(x_test.shape[0],x_test.shape[1],1)\n"
      ],
      "metadata": {
        "execution": {
          "iopub.status.busy": "2022-12-17T11:59:12.949594Z",
          "iopub.execute_input": "2022-12-17T11:59:12.949991Z",
          "iopub.status.idle": "2022-12-17T11:59:12.957159Z",
          "shell.execute_reply.started": "2022-12-17T11:59:12.949949Z",
          "shell.execute_reply": "2022-12-17T11:59:12.956007Z"
        },
        "trusted": true,
        "id": "p0RNIuYQB-k7"
      },
      "execution_count": 27,
      "outputs": []
    },
    {
      "cell_type": "code",
      "source": [
        "from keras.models import Sequential\n",
        "from keras.layers import Dense,LSTM"
      ],
      "metadata": {
        "execution": {
          "iopub.status.busy": "2022-12-17T11:59:12.958635Z",
          "iopub.execute_input": "2022-12-17T11:59:12.959022Z",
          "iopub.status.idle": "2022-12-17T11:59:19.658190Z",
          "shell.execute_reply.started": "2022-12-17T11:59:12.958983Z",
          "shell.execute_reply": "2022-12-17T11:59:19.656814Z"
        },
        "trusted": true,
        "id": "cYE2uis9B-k8"
      },
      "execution_count": 28,
      "outputs": []
    },
    {
      "cell_type": "code",
      "source": [
        "#creating LSTM model using keras\n",
        "model = Sequential()\n",
        "model.add(LSTM(units=50,return_sequences=True,input_shape=(x_train.shape[1],1)))\n",
        "model.add(LSTM(units=50,return_sequences=True))\n",
        "model.add(LSTM(units=50))\n",
        "model.add(Dense(units=1,activation='linear'))\n",
        "model.summary()"
      ],
      "metadata": {
        "execution": {
          "iopub.status.busy": "2022-12-17T11:59:19.663528Z",
          "iopub.execute_input": "2022-12-17T11:59:19.664267Z",
          "iopub.status.idle": "2022-12-17T11:59:20.550251Z",
          "shell.execute_reply.started": "2022-12-17T11:59:19.664227Z",
          "shell.execute_reply": "2022-12-17T11:59:20.548859Z"
        },
        "trusted": true,
        "colab": {
          "base_uri": "https://localhost:8080/",
          "height": 0
        },
        "id": "KG63O6AzB-k8",
        "outputId": "d203d1af-a94c-4359-df0a-5103744eec2a"
      },
      "execution_count": 29,
      "outputs": [
        {
          "output_type": "stream",
          "name": "stdout",
          "text": [
            "Model: \"sequential\"\n",
            "_________________________________________________________________\n",
            " Layer (type)                Output Shape              Param #   \n",
            "=================================================================\n",
            " lstm (LSTM)                 (None, 100, 50)           10400     \n",
            "                                                                 \n",
            " lstm_1 (LSTM)               (None, 100, 50)           20200     \n",
            "                                                                 \n",
            " lstm_2 (LSTM)               (None, 50)                20200     \n",
            "                                                                 \n",
            " dense (Dense)               (None, 1)                 51        \n",
            "                                                                 \n",
            "=================================================================\n",
            "Total params: 50,851\n",
            "Trainable params: 50,851\n",
            "Non-trainable params: 0\n",
            "_________________________________________________________________\n"
          ]
        }
      ]
    },
    {
      "cell_type": "code",
      "source": [
        "#Training model with adam optimizer and mean squared error loss function\n",
        "model.compile(loss='mean_squared_error',optimizer = 'adam')\n",
        "model.fit(x_train,y_train,validation_data=(x_test,y_test),epochs=100,batch_size=64)"
      ],
      "metadata": {
        "trusted": true,
        "colab": {
          "base_uri": "https://localhost:8080/",
          "height": 0
        },
        "id": "KX9qA9XEB-k8",
        "outputId": "dc1f6c9b-e475-4f48-c869-d00ccc8085f0"
      },
      "execution_count": 30,
      "outputs": [
        {
          "output_type": "stream",
          "name": "stdout",
          "text": [
            "Epoch 1/100\n",
            "12/12 [==============================] - 19s 645ms/step - loss: 0.0798 - val_loss: 0.0066\n",
            "Epoch 2/100\n",
            "12/12 [==============================] - 3s 280ms/step - loss: 0.0160 - val_loss: 0.0123\n",
            "Epoch 3/100\n",
            "12/12 [==============================] - 2s 203ms/step - loss: 0.0094 - val_loss: 0.0043\n",
            "Epoch 4/100\n",
            "12/12 [==============================] - 2s 199ms/step - loss: 0.0064 - val_loss: 0.0032\n",
            "Epoch 5/100\n",
            "12/12 [==============================] - 2s 201ms/step - loss: 0.0048 - val_loss: 0.0034\n",
            "Epoch 6/100\n",
            "12/12 [==============================] - 2s 202ms/step - loss: 0.0044 - val_loss: 0.0032\n",
            "Epoch 7/100\n",
            "12/12 [==============================] - 2s 209ms/step - loss: 0.0043 - val_loss: 0.0030\n",
            "Epoch 8/100\n",
            "12/12 [==============================] - 2s 204ms/step - loss: 0.0042 - val_loss: 0.0029\n",
            "Epoch 9/100\n",
            "12/12 [==============================] - 2s 204ms/step - loss: 0.0040 - val_loss: 0.0029\n",
            "Epoch 10/100\n",
            "12/12 [==============================] - 2s 201ms/step - loss: 0.0040 - val_loss: 0.0030\n",
            "Epoch 11/100\n",
            "12/12 [==============================] - 2s 201ms/step - loss: 0.0044 - val_loss: 0.0033\n",
            "Epoch 12/100\n",
            "12/12 [==============================] - 2s 200ms/step - loss: 0.0038 - val_loss: 0.0027\n",
            "Epoch 13/100\n",
            "12/12 [==============================] - 2s 204ms/step - loss: 0.0038 - val_loss: 0.0027\n",
            "Epoch 14/100\n",
            "12/12 [==============================] - 2s 203ms/step - loss: 0.0037 - val_loss: 0.0026\n",
            "Epoch 15/100\n",
            "12/12 [==============================] - 2s 201ms/step - loss: 0.0036 - val_loss: 0.0027\n",
            "Epoch 16/100\n",
            "12/12 [==============================] - 2s 201ms/step - loss: 0.0035 - val_loss: 0.0026\n",
            "Epoch 17/100\n",
            "12/12 [==============================] - 2s 204ms/step - loss: 0.0034 - val_loss: 0.0026\n",
            "Epoch 18/100\n",
            "12/12 [==============================] - 2s 204ms/step - loss: 0.0033 - val_loss: 0.0025\n",
            "Epoch 19/100\n",
            "12/12 [==============================] - 2s 202ms/step - loss: 0.0032 - val_loss: 0.0025\n",
            "Epoch 20/100\n",
            "12/12 [==============================] - 2s 201ms/step - loss: 0.0031 - val_loss: 0.0024\n",
            "Epoch 21/100\n",
            "12/12 [==============================] - 2s 209ms/step - loss: 0.0031 - val_loss: 0.0024\n",
            "Epoch 22/100\n",
            "12/12 [==============================] - 2s 202ms/step - loss: 0.0032 - val_loss: 0.0024\n",
            "Epoch 23/100\n",
            "12/12 [==============================] - 2s 201ms/step - loss: 0.0033 - val_loss: 0.0026\n",
            "Epoch 24/100\n",
            "12/12 [==============================] - 2s 204ms/step - loss: 0.0032 - val_loss: 0.0024\n",
            "Epoch 25/100\n",
            "12/12 [==============================] - 2s 204ms/step - loss: 0.0031 - val_loss: 0.0024\n",
            "Epoch 26/100\n",
            "12/12 [==============================] - 2s 206ms/step - loss: 0.0031 - val_loss: 0.0028\n",
            "Epoch 27/100\n",
            "12/12 [==============================] - 2s 204ms/step - loss: 0.0032 - val_loss: 0.0024\n",
            "Epoch 28/100\n",
            "12/12 [==============================] - 2s 202ms/step - loss: 0.0030 - val_loss: 0.0024\n",
            "Epoch 29/100\n",
            "12/12 [==============================] - 2s 203ms/step - loss: 0.0028 - val_loss: 0.0021\n",
            "Epoch 30/100\n",
            "12/12 [==============================] - 2s 202ms/step - loss: 0.0027 - val_loss: 0.0021\n",
            "Epoch 31/100\n",
            "12/12 [==============================] - 2s 203ms/step - loss: 0.0027 - val_loss: 0.0021\n",
            "Epoch 32/100\n",
            "12/12 [==============================] - 2s 202ms/step - loss: 0.0028 - val_loss: 0.0024\n",
            "Epoch 33/100\n",
            "12/12 [==============================] - 2s 202ms/step - loss: 0.0026 - val_loss: 0.0020\n",
            "Epoch 34/100\n",
            "12/12 [==============================] - 2s 203ms/step - loss: 0.0025 - val_loss: 0.0019\n",
            "Epoch 35/100\n",
            "12/12 [==============================] - 2s 200ms/step - loss: 0.0024 - val_loss: 0.0019\n",
            "Epoch 36/100\n",
            "12/12 [==============================] - 2s 200ms/step - loss: 0.0024 - val_loss: 0.0019\n",
            "Epoch 37/100\n",
            "12/12 [==============================] - 2s 204ms/step - loss: 0.0024 - val_loss: 0.0018\n",
            "Epoch 38/100\n",
            "12/12 [==============================] - 2s 204ms/step - loss: 0.0023 - val_loss: 0.0018\n",
            "Epoch 39/100\n",
            "12/12 [==============================] - 4s 321ms/step - loss: 0.0022 - val_loss: 0.0018\n",
            "Epoch 40/100\n",
            "12/12 [==============================] - 2s 202ms/step - loss: 0.0022 - val_loss: 0.0017\n",
            "Epoch 41/100\n",
            "12/12 [==============================] - 3s 218ms/step - loss: 0.0022 - val_loss: 0.0018\n",
            "Epoch 42/100\n",
            "12/12 [==============================] - 4s 293ms/step - loss: 0.0023 - val_loss: 0.0018\n",
            "Epoch 43/100\n",
            "12/12 [==============================] - 2s 202ms/step - loss: 0.0024 - val_loss: 0.0016\n",
            "Epoch 44/100\n",
            "12/12 [==============================] - 2s 206ms/step - loss: 0.0023 - val_loss: 0.0016\n",
            "Epoch 45/100\n",
            "12/12 [==============================] - 2s 202ms/step - loss: 0.0023 - val_loss: 0.0020\n",
            "Epoch 46/100\n",
            "12/12 [==============================] - 2s 202ms/step - loss: 0.0023 - val_loss: 0.0016\n",
            "Epoch 47/100\n",
            "12/12 [==============================] - 2s 205ms/step - loss: 0.0020 - val_loss: 0.0016\n",
            "Epoch 48/100\n",
            "12/12 [==============================] - 2s 207ms/step - loss: 0.0019 - val_loss: 0.0014\n",
            "Epoch 49/100\n",
            "12/12 [==============================] - 2s 206ms/step - loss: 0.0018 - val_loss: 0.0014\n",
            "Epoch 50/100\n",
            "12/12 [==============================] - 2s 206ms/step - loss: 0.0018 - val_loss: 0.0014\n",
            "Epoch 51/100\n",
            "12/12 [==============================] - 2s 203ms/step - loss: 0.0018 - val_loss: 0.0015\n",
            "Epoch 52/100\n",
            "12/12 [==============================] - 2s 202ms/step - loss: 0.0019 - val_loss: 0.0013\n",
            "Epoch 53/100\n",
            "12/12 [==============================] - 2s 199ms/step - loss: 0.0018 - val_loss: 0.0013\n",
            "Epoch 54/100\n",
            "12/12 [==============================] - 2s 202ms/step - loss: 0.0018 - val_loss: 0.0014\n",
            "Epoch 55/100\n",
            "12/12 [==============================] - 2s 204ms/step - loss: 0.0018 - val_loss: 0.0015\n",
            "Epoch 56/100\n",
            "12/12 [==============================] - 2s 206ms/step - loss: 0.0021 - val_loss: 0.0017\n",
            "Epoch 57/100\n",
            "12/12 [==============================] - 2s 203ms/step - loss: 0.0020 - val_loss: 0.0017\n",
            "Epoch 58/100\n",
            "12/12 [==============================] - 2s 202ms/step - loss: 0.0017 - val_loss: 0.0012\n",
            "Epoch 59/100\n",
            "12/12 [==============================] - 2s 204ms/step - loss: 0.0016 - val_loss: 0.0013\n",
            "Epoch 60/100\n",
            "12/12 [==============================] - 2s 204ms/step - loss: 0.0017 - val_loss: 0.0017\n",
            "Epoch 61/100\n",
            "12/12 [==============================] - 2s 203ms/step - loss: 0.0020 - val_loss: 0.0011\n",
            "Epoch 62/100\n",
            "12/12 [==============================] - 2s 202ms/step - loss: 0.0016 - val_loss: 0.0012\n",
            "Epoch 63/100\n",
            "12/12 [==============================] - 2s 204ms/step - loss: 0.0015 - val_loss: 0.0011\n",
            "Epoch 64/100\n",
            "12/12 [==============================] - 2s 201ms/step - loss: 0.0015 - val_loss: 0.0013\n",
            "Epoch 65/100\n",
            "12/12 [==============================] - 2s 200ms/step - loss: 0.0015 - val_loss: 0.0011\n",
            "Epoch 66/100\n",
            "12/12 [==============================] - 2s 204ms/step - loss: 0.0014 - val_loss: 0.0011\n",
            "Epoch 67/100\n",
            "12/12 [==============================] - 2s 203ms/step - loss: 0.0015 - val_loss: 0.0011\n",
            "Epoch 68/100\n",
            "12/12 [==============================] - 2s 201ms/step - loss: 0.0014 - val_loss: 0.0010\n",
            "Epoch 69/100\n",
            "12/12 [==============================] - 2s 206ms/step - loss: 0.0015 - val_loss: 0.0012\n",
            "Epoch 70/100\n",
            "12/12 [==============================] - 2s 201ms/step - loss: 0.0014 - val_loss: 0.0010\n",
            "Epoch 71/100\n",
            "12/12 [==============================] - 2s 201ms/step - loss: 0.0014 - val_loss: 0.0010\n",
            "Epoch 72/100\n",
            "12/12 [==============================] - 2s 207ms/step - loss: 0.0014 - val_loss: 9.7542e-04\n",
            "Epoch 73/100\n",
            "12/12 [==============================] - 2s 205ms/step - loss: 0.0013 - val_loss: 9.8799e-04\n",
            "Epoch 74/100\n",
            "12/12 [==============================] - 2s 207ms/step - loss: 0.0014 - val_loss: 0.0011\n",
            "Epoch 75/100\n",
            "12/12 [==============================] - 2s 206ms/step - loss: 0.0013 - val_loss: 9.3314e-04\n",
            "Epoch 76/100\n",
            "12/12 [==============================] - 2s 201ms/step - loss: 0.0013 - val_loss: 0.0010\n",
            "Epoch 77/100\n",
            "12/12 [==============================] - 2s 204ms/step - loss: 0.0013 - val_loss: 8.8885e-04\n",
            "Epoch 78/100\n",
            "12/12 [==============================] - 2s 203ms/step - loss: 0.0013 - val_loss: 9.4748e-04\n",
            "Epoch 79/100\n",
            "12/12 [==============================] - 2s 201ms/step - loss: 0.0013 - val_loss: 0.0013\n",
            "Epoch 80/100\n",
            "12/12 [==============================] - 2s 205ms/step - loss: 0.0013 - val_loss: 8.5964e-04\n",
            "Epoch 81/100\n",
            "12/12 [==============================] - 2s 204ms/step - loss: 0.0012 - val_loss: 8.6402e-04\n",
            "Epoch 82/100\n",
            "12/12 [==============================] - 2s 204ms/step - loss: 0.0012 - val_loss: 8.2969e-04\n",
            "Epoch 83/100\n",
            "12/12 [==============================] - 2s 204ms/step - loss: 0.0012 - val_loss: 8.8414e-04\n",
            "Epoch 84/100\n",
            "12/12 [==============================] - 2s 204ms/step - loss: 0.0012 - val_loss: 8.0032e-04\n",
            "Epoch 85/100\n",
            "12/12 [==============================] - 2s 201ms/step - loss: 0.0011 - val_loss: 8.4538e-04\n",
            "Epoch 86/100\n",
            "12/12 [==============================] - 2s 204ms/step - loss: 0.0011 - val_loss: 8.3474e-04\n",
            "Epoch 87/100\n",
            "12/12 [==============================] - 2s 202ms/step - loss: 0.0011 - val_loss: 9.1696e-04\n",
            "Epoch 88/100\n",
            "12/12 [==============================] - 2s 202ms/step - loss: 0.0012 - val_loss: 7.6701e-04\n",
            "Epoch 89/100\n",
            "12/12 [==============================] - 2s 202ms/step - loss: 0.0012 - val_loss: 0.0012\n",
            "Epoch 90/100\n",
            "12/12 [==============================] - 2s 203ms/step - loss: 0.0013 - val_loss: 7.9508e-04\n",
            "Epoch 91/100\n",
            "12/12 [==============================] - 2s 205ms/step - loss: 0.0010 - val_loss: 7.3210e-04\n",
            "Epoch 92/100\n",
            "12/12 [==============================] - 2s 203ms/step - loss: 0.0011 - val_loss: 7.3485e-04\n",
            "Epoch 93/100\n",
            "12/12 [==============================] - 2s 202ms/step - loss: 0.0011 - val_loss: 0.0010\n",
            "Epoch 94/100\n",
            "12/12 [==============================] - 2s 206ms/step - loss: 0.0011 - val_loss: 7.4633e-04\n",
            "Epoch 95/100\n",
            "12/12 [==============================] - 2s 203ms/step - loss: 0.0011 - val_loss: 7.4566e-04\n",
            "Epoch 96/100\n",
            "12/12 [==============================] - 2s 204ms/step - loss: 0.0011 - val_loss: 7.4221e-04\n",
            "Epoch 97/100\n",
            "12/12 [==============================] - 2s 205ms/step - loss: 9.8517e-04 - val_loss: 7.1480e-04\n",
            "Epoch 98/100\n",
            "12/12 [==============================] - 2s 203ms/step - loss: 9.5663e-04 - val_loss: 7.1501e-04\n",
            "Epoch 99/100\n",
            "12/12 [==============================] - 2s 206ms/step - loss: 0.0011 - val_loss: 6.5119e-04\n",
            "Epoch 100/100\n",
            "12/12 [==============================] - 2s 203ms/step - loss: 0.0011 - val_loss: 8.3751e-04\n"
          ]
        },
        {
          "output_type": "execute_result",
          "data": {
            "text/plain": [
              "<keras.callbacks.History at 0x7f4309b8cb80>"
            ]
          },
          "metadata": {},
          "execution_count": 30
        }
      ]
    },
    {
      "cell_type": "code",
      "source": [
        "#plotting loss,it showsthat loss has decreased significantly and model trained well\n",
        "loss = model.history.history['loss']\n",
        "plt.plot(loss)"
      ],
      "metadata": {
        "trusted": true,
        "colab": {
          "base_uri": "https://localhost:8080/",
          "height": 282
        },
        "id": "VdbM6ihwB-k8",
        "outputId": "626b9a67-18e6-40d7-df80-5c42c61c6cba"
      },
      "execution_count": 31,
      "outputs": [
        {
          "output_type": "execute_result",
          "data": {
            "text/plain": [
              "[<matplotlib.lines.Line2D at 0x7f4303201640>]"
            ]
          },
          "metadata": {},
          "execution_count": 31
        },
        {
          "output_type": "display_data",
          "data": {
            "text/plain": [
              "<Figure size 432x288 with 1 Axes>"
            ],
            "image/png": "[encoded data removed]"
          },
          "metadata": {
            "needs_background": "light"
          }
        }
      ]
    },
    {
      "cell_type": "code",
      "source": [
        "#Predicting on train and test data\n",
        "train_predict = model.predict(x_train)\n",
        "test_predict = model.predict(x_test)"
      ],
      "metadata": {
        "trusted": true,
        "colab": {
          "base_uri": "https://localhost:8080/",
          "height": 0
        },
        "id": "SbYgzeoiB-k8",
        "outputId": "224c2532-3145-47d8-82a6-659957bdb385"
      },
      "execution_count": 32,
      "outputs": [
        {
          "output_type": "stream",
          "name": "stdout",
          "text": [
            "24/24 [==============================] - 2s 36ms/step\n",
            "9/9 [==============================] - 0s 36ms/step\n"
          ]
        }
      ]
    },
    {
      "cell_type": "code",
      "source": [
        "#inverse transforn to get actual value\n",
        "train_predict = normalizer.inverse_transform(train_predict)\n",
        "test_predict = normalizer.inverse_transform(test_predict)"
      ],
      "metadata": {
        "trusted": true,
        "id": "2tV_dayHB-k8"
      },
      "execution_count": 33,
      "outputs": []
    },
    {
      "cell_type": "code",
      "source": [
        "#comparing using visuals\n",
        "plt.plot(normalizer.inverse_transform(ds_scaled))\n",
        "plt.plot(train_predict)\n",
        "plt.plot(test_predict)"
      ],
      "metadata": {
        "trusted": true,
        "colab": {
          "base_uri": "https://localhost:8080/",
          "height": 282
        },
        "id": "HDix66N3B-k8",
        "outputId": "d5516cb9-0e19-4a5f-c539-4838c7154f19"
      },
      "execution_count": 34,
      "outputs": [
        {
          "output_type": "execute_result",
          "data": {
            "text/plain": [
              "[<matplotlib.lines.Line2D at 0x7f43097d48e0>]"
            ]
          },
          "metadata": {},
          "execution_count": 34
        },
        {
          "output_type": "display_data",
          "data": {
            "text/plain": [
              "<Figure size 432x288 with 1 Axes>"
            ],
            "image/png": "[encoded data removed]"
          },
          "metadata": {
            "needs_background": "light"
          }
        }
      ]
    },
    {
      "cell_type": "code",
      "source": [
        "type(train_predict)"
      ],
      "metadata": {
        "trusted": true,
        "colab": {
          "base_uri": "https://localhost:8080/",
          "height": 0
        },
        "id": "4nEO_ydrB-k8",
        "outputId": "f0684714-d3ac-4c13-c1ec-df34b4b4b83a"
      },
      "execution_count": 35,
      "outputs": [
        {
          "output_type": "execute_result",
          "data": {
            "text/plain": [
              "numpy.ndarray"
            ]
          },
          "metadata": {},
          "execution_count": 35
        }
      ]
    },
    {
      "cell_type": "code",
      "source": [
        "test = np.vstack((train_predict,test_predict))"
      ],
      "metadata": {
        "trusted": true,
        "id": "g-Dd7a5wB-k8"
      },
      "execution_count": 36,
      "outputs": []
    },
    {
      "cell_type": "code",
      "source": [
        "#combining the predicted data to creatye uniforn data visualization\n",
        "plt.plot(normalizer.inverse_transform(ds_scaled))\n",
        "plt.plot(test)"
      ],
      "metadata": {
        "trusted": true,
        "colab": {
          "base_uri": "https://localhost:8080/",
          "height": 282
        },
        "id": "CsGeweg7B-k9",
        "outputId": "a023b72c-120d-4ba5-82ec-dc9d59fd0848"
      },
      "execution_count": 37,
      "outputs": [
        {
          "output_type": "execute_result",
          "data": {
            "text/plain": [
              "[<matplotlib.lines.Line2D at 0x7f43097f2970>]"
            ]
          },
          "metadata": {},
          "execution_count": 37
        },
        {
          "output_type": "display_data",
          "data": {
            "text/plain": [
              "<Figure size 432x288 with 1 Axes>"
            ],
            "image/png": "[encoded data removed]"
          },
          "metadata": {
            "needs_background": "light"
          }
        }
      ]
    },
    {
      "cell_type": "code",
      "source": [
        "len(ds_test)"
      ],
      "metadata": {
        "trusted": true,
        "colab": {
          "base_uri": "https://localhost:8080/",
          "height": 0
        },
        "id": "X7_fI0LsB-k9",
        "outputId": "5f885107-8d4b-4dbc-b25a-a7235b2f9a04"
      },
      "execution_count": 38,
      "outputs": [
        {
          "output_type": "execute_result",
          "data": {
            "text/plain": [
              "371"
            ]
          },
          "metadata": {},
          "execution_count": 38
        }
      ]
    },
    {
      "cell_type": "code",
      "source": [
        "#getting  the last 100 days records\n",
        "fut_inp = ds_test[270:]"
      ],
      "metadata": {
        "id": "o8htJrv9B-k9"
      },
      "execution_count": 39,
      "outputs": []
    },
    {
      "cell_type": "code",
      "source": [
        "fut_inp = fut_inp.reshape(1,-1)"
      ],
      "metadata": {
        "id": "4gGMyyCGB-k9"
      },
      "execution_count": 41,
      "outputs": []
    },
    {
      "cell_type": "code",
      "source": [
        "tmp_inp = list(fut_inp)"
      ],
      "metadata": {
        "id": "-wYg2mXXB-k9"
      },
      "execution_count": 42,
      "outputs": []
    },
    {
      "cell_type": "code",
      "source": [
        "#creating list of the last 100 days\n",
        "tmp_inp = tmp_inp[0].tolist()"
      ],
      "metadata": {
        "id": "Mzm1R-KDB-k9"
      },
      "execution_count": 44,
      "outputs": []
    },
    {
      "cell_type": "code",
      "source": [
        "#Predicting next 30 days price suing the current data\n",
        "#It will predict in sliding window manner (algorithm) with stride 1\n",
        "lst_output=[]\n",
        "n_steps=100\n",
        "i=0\n",
        "while(i<30):\n",
        "    \n",
        "    if(len(tmp_inp)>100):\n",
        "        fut_inp = np.array(tmp_inp[1:])\n",
        "        fut_inp=fut_inp.reshape(1,-1)\n",
        "        fut_inp = fut_inp.reshape((1, n_steps, 1))\n",
        "        yhat = model.predict(fut_inp, verbose=0)\n",
        "        tmp_inp.extend(yhat[0].tolist())\n",
        "        tmp_inp = tmp_inp[1:]\n",
        "        lst_output.extend(yhat.tolist())\n",
        "        i=i+1\n",
        "    else:\n",
        "        fut_inp = fut_inp.reshape((1, n_steps,1))\n",
        "        yhat = model.predict(fut_inp, verbose=0)\n",
        "        tmp_inp.extend(yhat[0].tolist())\n",
        "        lst_output.extend(yhat.tolist())\n",
        "        i=i+1\n",
        "    \n",
        "\n",
        "print(lst_output)\n",
        "        "
      ],
      "metadata": {
        "colab": {
          "base_uri": "https://localhost:8080/",
          "height": 0
        },
        "id": "aeYKVd3kB-k9",
        "outputId": "b055a782-409b-43af-e9d2-8f63d67d0a8e"
      },
      "execution_count": 47,
      "outputs": [
        {
          "output_type": "stream",
          "name": "stdout",
          "text": [
            "[[0.60503751039505], [0.6185694336891174], [0.6282083988189697], [0.6361008882522583], [0.6428959369659424], [0.6489161849021912], [0.6544719338417053], [0.6598613262176514], [0.6653321385383606], [0.6710647344589233], [0.6771669983863831], [0.683682382106781], [0.6906009316444397], [0.6978744864463806], [0.7054312229156494], [0.7131885290145874], [0.7210661172866821], [0.7289912700653076], [0.7369069457054138], [0.7447721362113953], [0.7525616884231567], [0.7602643370628357], [0.767880916595459], [0.7754174470901489], [0.7828852534294128], [0.7902953028678894], [0.7976568937301636], [0.8049765229225159], [0.8122568130493164], [0.8194976449012756]]\n"
          ]
        }
      ]
    },
    {
      "cell_type": "code",
      "source": [
        "len(ds_scaled)\n"
      ],
      "metadata": {
        "colab": {
          "base_uri": "https://localhost:8080/",
          "height": 0
        },
        "id": "c-SQ_IuGB-k9",
        "outputId": "4c9b7255-a855-4280-b331-962213e6f111"
      },
      "execution_count": 48,
      "outputs": [
        {
          "output_type": "execute_result",
          "data": {
            "text/plain": [
              "1235"
            ]
          },
          "metadata": {},
          "execution_count": 48
        }
      ]
    },
    {
      "cell_type": "code",
      "source": [
        "#Creating a dummy plane to plot graph one after another\n",
        "plot_new=np.arange(1,101)\n",
        "plot_pred=np.arange(101,131)"
      ],
      "metadata": {
        "id": "OOTS8bg-B-k9"
      },
      "execution_count": 49,
      "outputs": []
    },
    {
      "cell_type": "code",
      "source": [
        "\n",
        "ds_new = ds_scaled.tolist()"
      ],
      "metadata": {
        "id": "r2f5Z0bRB-k-"
      },
      "execution_count": 51,
      "outputs": []
    },
    {
      "cell_type": "code",
      "source": [
        "len(ds_new)\n"
      ],
      "metadata": {
        "colab": {
          "base_uri": "https://localhost:8080/",
          "height": 0
        },
        "id": "nwgh4c3iB-k-",
        "outputId": "005be5ca-fb7c-4faa-a7fd-942dac4821ac"
      },
      "execution_count": 52,
      "outputs": [
        {
          "output_type": "execute_result",
          "data": {
            "text/plain": [
              "1235"
            ]
          },
          "metadata": {},
          "execution_count": 52
        }
      ]
    },
    {
      "cell_type": "code",
      "source": [
        "#Plotting final results with predicted value after 30 Days\n",
        "plt.plot(final_graph,)\n",
        "plt.ylabel(\"Price\")\n",
        "plt.xlabel(\"Time\")\n",
        "plt.title(\"{0} prediction of next month open\".format(stock_symbol))\n",
        "plt.axhline(y=final_graph[len(final_graph)-1], color = 'red', linestyle = ':', label = 'NEXT 30D: {0}'.format(round(float(*final_graph[len(final_graph)-1]),2)))\n",
        "plt.legend()"
      ],
      "metadata": {
        "colab": {
          "base_uri": "https://localhost:8080/",
          "height": 312
        },
        "id": "IC96NG-LGdrg",
        "outputId": "19f52942-8bb7-4f38-c6f4-c9396a0e39fc"
      },
      "execution_count": 56,
      "outputs": [
        {
          "output_type": "execute_result",
          "data": {
            "text/plain": [
              "<matplotlib.legend.Legend at 0x7f43063e6ee0>"
            ]
          },
          "metadata": {},
          "execution_count": 56
        },
        {
          "output_type": "display_data",
          "data": {
            "text/plain": [
              "<Figure size 432x288 with 1 Axes>"
            ],
            "image/png": "[encoded data removed]"
          },
          "metadata": {
            "needs_background": "light"
          }
        }
      ]
    },
    {
      "cell_type": "code",
      "source": [
        "#Entends helps us to fill the missing value with approx value\n",
        "ds_new.extend(lst_output)\n",
        "plt.plot(ds_new[1200:])"
      ],
      "metadata": {
        "colab": {
          "base_uri": "https://localhost:8080/",
          "height": 282
        },
        "id": "OogjbMDGB-k-",
        "outputId": "d8c6922e-cbda-4c09-a299-bf6da5e2bceb"
      },
      "execution_count": 53,
      "outputs": [
        {
          "output_type": "execute_result",
          "data": {
            "text/plain": [
              "[<matplotlib.lines.Line2D at 0x7f430653a6d0>]"
            ]
          },
          "metadata": {},
          "execution_count": 53
        },
        {
          "output_type": "display_data",
          "data": {
            "text/plain": [
              "<Figure size 432x288 with 1 Axes>"
            ],
            "image/png": "[encoded data removed]"
          },
          "metadata": {
            "needs_background": "light"
          }
        }
      ]
    },
    {
      "cell_type": "code",
      "source": [
        "#Creating final data for plotting\n",
        "final_graph = normalizer.inverse_transform(ds_new).tolist()"
      ],
      "metadata": {
        "id": "EDd8qfmIB-k-"
      },
      "execution_count": 54,
      "outputs": []
    },
    {
      "cell_type": "code",
      "source": [
        "#Plotting final results with predicted value after 30 Days\n",
        "plt.plot(final_graph,)\n",
        "plt.ylabel(\"Price\")\n",
        "plt.xlabel(\"Time\")\n",
        "plt.title(\"{0} prediction of next month open\".format(stock_symbol))\n",
        "plt.axhline(y=final_graph[len(final_graph)-1], color = 'red', linestyle = ':', label = 'NEXT 30D: {0}'.format(round(float(*final_graph[len(final_graph)-1]),2)))\n",
        "plt.legend()"
      ],
      "metadata": {
        "colab": {
          "base_uri": "https://localhost:8080/",
          "height": 312
        },
        "id": "MKGT88guB-k-",
        "outputId": "83b34165-5c8c-4e22-e769-2c0ed7141a4f"
      },
      "execution_count": 55,
      "outputs": [
        {
          "output_type": "execute_result",
          "data": {
            "text/plain": [
              "<matplotlib.legend.Legend at 0x7f43062a3ca0>"
            ]
          },
          "metadata": {},
          "execution_count": 55
        },
        {
          "output_type": "display_data",
          "data": {
            "text/plain": [
              "<Figure size 432x288 with 1 Axes>"
            ],
            "image/png": "[encoded data removed]"
          },
          "metadata": {
            "needs_background": "light"
          }
        }
      ]
    },
    {
      "cell_type": "code",
      "source": [],
      "metadata": {
        "id": "kcjFSPDVB-k-"
      },
      "execution_count": 55,
      "outputs": []
    },
    {
      "cell_type": "code",
      "source": [],
      "metadata": {
        "id": "SNP9msBsB-k-"
      },
      "execution_count": null,
      "outputs": []
    },
    {
      "cell_type": "code",
      "source": [],
      "metadata": {
        "id": "VVQz_5GtB-k-"
      },
      "execution_count": null,
      "outputs": []
    },
    {
      "cell_type": "code",
      "source": [],
      "metadata": {
        "id": "t-eqY49RB-k-"
      },
      "execution_count": null,
      "outputs": []
    }
  ]
}